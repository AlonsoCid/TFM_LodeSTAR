{
 "cells": [
  {
   "cell_type": "markdown",
   "metadata": {},
   "source": [
    "## Create the dataset"
   ]
  },
  {
   "cell_type": "code",
   "execution_count": 2,
   "metadata": {},
   "outputs": [],
   "source": [
    "import deeptrack as dt \n",
    "from numpy.random import uniform\n",
    "\n",
    "image_size = 51\n",
    "\n",
    "particle1 = dt.Sphere(\n",
    "    position=lambda: uniform(image_size / 2 - 5, image_size / 2 + 5, size=2),\n",
    "    radius = 1e-7,\n",
    ")\n",
    "\n",
    "particle2 = dt.Ellipse(\n",
    "            intensity=0.2,\n",
    "            position_unit=\"pixel\",\n",
    "            position=lambda: uniform(3 * image_size / 4 - 5, 3 * image_size / 4 + 5, size=2),\n",
    "            radius=(1e-6, 0.2e-6),\n",
    "        )"
   ]
  },
  {
   "cell_type": "markdown",
   "metadata": {},
   "source": [
    "...add image optics..."
   ]
  },
  {
   "cell_type": "code",
   "execution_count": 3,
   "metadata": {},
   "outputs": [],
   "source": [
    "optics = dt.Fluorescence(output_region=(0, 0, image_size, image_size))"
   ]
  },
  {
   "cell_type": "markdown",
   "metadata": {},
   "source": [
    "...wich we combine in a simulation pipeline"
   ]
  },
  {
   "cell_type": "code",
   "execution_count": 4,
   "metadata": {},
   "outputs": [],
   "source": [
    "import torch\n",
    "\n",
    "simulation = (\n",
    "    optics(particle2 >> particle1)\n",
    "    >> dt.NormalizeMinMax(0, 1)\n",
    "    >> dt.MoveAxis(-1, 0)\n",
    "    >> dt.pytorch.ToTensor(dtype=torch.float32)\n",
    ")"
   ]
  },
  {
   "cell_type": "markdown",
   "metadata": {},
   "source": [
    "Create datasets"
   ]
  },
  {
   "cell_type": "code",
   "execution_count": 5,
   "metadata": {},
   "outputs": [],
   "source": [
    "train_dataset = dt.pytorch.Dataset(simulation & particle1.position, length=100)\n",
    "test_dataset = dt.pytorch.Dataset(simulation & particle1.position & particle2.position, length=5)"
   ]
  },
  {
   "cell_type": "markdown",
   "metadata": {},
   "source": [
    "Plot the data"
   ]
  },
  {
   "cell_type": "code",
   "execution_count": 6,
   "metadata": {},
   "outputs": [
    {
     "data": {
      "image/png": "[encoded data removed]",
      "text/plain": [
       "<Figure size 1000x200 with 5 Axes>"
      ]
     },
     "metadata": {},
     "output_type": "display_data"
    }
   ],
   "source": [
    "import matplotlib.pyplot as plt\n",
    "\n",
    "plt.figure(figsize=(10, 2))\n",
    "for i in range(5):\n",
    "\timage, position1, position2 = test_dataset[int(i)]\n",
    "\tplt.subplot(1, 5, i + 1)\n",
    "\tplt.imshow(image[0], cmap=\"gray\", origin=\"lower\")\n",
    "plt.tight_layout()\n",
    "plt.show()"
   ]
  },
  {
   "cell_type": "markdown",
   "metadata": {},
   "source": [
    "## Image segmentation CNN"
   ]
  }
 ],
 "metadata": {
  "kernelspec": {
   "display_name": "Python 3",
   "language": "python",
   "name": "python3"
  },
  "language_info": {
   "codemirror_mode": {
    "name": "ipython",
    "version": 3
   },
   "file_extension": ".py",
   "mimetype": "text/x-python",
   "name": "python",
   "nbconvert_exporter": "python",
   "pygments_lexer": "ipython3",
   "version": "3.11.9"
  }
 },
 "nbformat": 4,
 "nbformat_minor": 2
}
